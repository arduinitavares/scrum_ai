{
 "cells": [
  {
   "cell_type": "code",
   "execution_count": 3,
   "metadata": {},
   "outputs": [
    {
     "data": {
      "text/plain": [
       "InsertOneResult(ObjectId('66fbefe24f7f22379fa16331'), acknowledged=True)"
      ]
     },
     "execution_count": 3,
     "metadata": {},
     "output_type": "execute_result"
    }
   ],
   "source": [
    "# Assuming you have MongoDB installed and running\n",
    "from pymongo import MongoClient\n",
    "\n",
    "# Connect to MongoDB\n",
    "client = MongoClient('mongodb://localhost:27017/')\n",
    "db = client['project_management']\n",
    "collection = db['tasks']\n",
    "\n",
    "# Insert a document\n",
    "# Task 1\n",
    "document1 = {\n",
    "    \"project_id\": 1,\n",
    "    \"project_name\": \"E-Commerce Platform\",\n",
    "    \"themes\": \"Requirements Gathering\",\n",
    "    \"feature\": \"UI Requirements Gathering\",\n",
    "    \"epic\": \"Understand User Needs\",\n",
    "    \"user_story\": \"As a team member, I want to gather UI requirements so that we understand what the users need\",\n",
    "    \"task\": \"Create a list of questions to guide the requirement gathering\",\n",
    "    \"type\": \"Requirement\",\n",
    "    \"status\": \"To Do\",\n",
    "    \"estimate\": 2,\n",
    "    \"value\": \"High\",\n",
    "    \"sprint\": \"Sprint 0\"\n",
    "}\n",
    "\n",
    "# Task 2\n",
    "document2 = {\n",
    "    \"project_id\": 1,\n",
    "    \"project_name\": \"E-Commerce Platform\",\n",
    "    \"themes\": \"Requirements Gathering\",\n",
    "    \"feature\": \"UI Requirements Gathering\",\n",
    "    \"epic\": \"Understand User Needs\",\n",
    "    \"user_story\": \"As a team member, I want to gather UI requirements so that we understand what the users need\",\n",
    "    \"task\": \"Schedule a meeting with the stakeholders\",\n",
    "    \"type\": \"Meeting\",\n",
    "    \"status\": \"To Do\",\n",
    "    \"estimate\": 1,\n",
    "    \"value\": \"Medium\",\n",
    "    \"sprint\": \"Sprint 0\"\n",
    "}\n",
    "\n",
    "# Task 3\n",
    "document3 = {\n",
    "    \"project_id\": 1,\n",
    "    \"project_name\": \"E-Commerce Platform\",\n",
    "    \"themes\": \"Requirements Gathering\",\n",
    "    \"feature\": \"UI Requirements Gathering\",\n",
    "    \"epic\": \"Understand User Needs\",\n",
    "    \"user_story\": \"As a team member, I want to gather UI requirements so that we understand what the users need\",\n",
    "    \"task\": \"Analyze the gathered requirements and create a requirements document\",\n",
    "    \"type\": \"Analysis\",\n",
    "    \"status\": \"To Do\",\n",
    "    \"estimate\": 3,\n",
    "    \"value\": \"High\",\n",
    "    \"sprint\": \"Sprint 0\"\n",
    "}\n",
    "\n",
    "# Insert these documents into the MongoDB collection\n",
    "collection.insert_one(document1)\n",
    "collection.insert_one(document2)\n",
    "collection.insert_one(document3)"
   ]
  },
  {
   "cell_type": "code",
   "execution_count": 4,
   "metadata": {},
   "outputs": [
    {
     "name": "stdout",
     "output_type": "stream",
     "text": [
      "{'_id': ObjectId('66fbec9d4f7f22379fa1632d'), 'order': 1, 'id': 1111, 'themes': 'Requirements Gathering', 'feature': 'UI Requirements Gathering', 'epic': 'Understand User Needs', 'user_story': 'As a team member, I want to gather UI requirements so that we understand what the users need', 'task': 'Create a list of questions to guide the requirement gathering', 'type': 'Requirement', 'status': 'To Do', 'estimate': 2, 'value': 'High', 'sprint': 'Sprint 0'}\n",
      "{'_id': ObjectId('66fbefe24f7f22379fa1632f'), 'project_id': 1, 'project_name': 'E-Commerce Platform', 'themes': 'Requirements Gathering', 'feature': 'UI Requirements Gathering', 'epic': 'Understand User Needs', 'user_story': 'As a team member, I want to gather UI requirements so that we understand what the users need', 'task': 'Create a list of questions to guide the requirement gathering', 'type': 'Requirement', 'status': 'To Do', 'estimate': 2, 'value': 'High', 'sprint': 'Sprint 0'}\n",
      "{'_id': ObjectId('66fbefe24f7f22379fa16330'), 'project_id': 1, 'project_name': 'E-Commerce Platform', 'themes': 'Requirements Gathering', 'feature': 'UI Requirements Gathering', 'epic': 'Understand User Needs', 'user_story': 'As a team member, I want to gather UI requirements so that we understand what the users need', 'task': 'Schedule a meeting with the stakeholders', 'type': 'Meeting', 'status': 'To Do', 'estimate': 1, 'value': 'Medium', 'sprint': 'Sprint 0'}\n",
      "{'_id': ObjectId('66fbefe24f7f22379fa16331'), 'project_id': 1, 'project_name': 'E-Commerce Platform', 'themes': 'Requirements Gathering', 'feature': 'UI Requirements Gathering', 'epic': 'Understand User Needs', 'user_story': 'As a team member, I want to gather UI requirements so that we understand what the users need', 'task': 'Analyze the gathered requirements and create a requirements document', 'type': 'Analysis', 'status': 'To Do', 'estimate': 3, 'value': 'High', 'sprint': 'Sprint 0'}\n"
     ]
    }
   ],
   "source": [
    "# Fetch all documents in the collection\n",
    "documents = collection.find()\n",
    "\n",
    "# Display the documents\n",
    "for document in documents:\n",
    "    print(document)"
   ]
  },
  {
   "cell_type": "code",
   "execution_count": null,
   "metadata": {},
   "outputs": [],
   "source": []
  }
 ],
 "metadata": {
  "kernelspec": {
   "display_name": "crewai-XUXxBHHH-py3.11",
   "language": "python",
   "name": "python3"
  },
  "language_info": {
   "codemirror_mode": {
    "name": "ipython",
    "version": 3
   },
   "file_extension": ".py",
   "mimetype": "text/x-python",
   "name": "python",
   "nbconvert_exporter": "python",
   "pygments_lexer": "ipython3",
   "version": "3.11.9"
  }
 },
 "nbformat": 4,
 "nbformat_minor": 2
}
